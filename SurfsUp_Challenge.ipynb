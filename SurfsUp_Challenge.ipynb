{
 "cells": [
  {
   "cell_type": "markdown",
   "metadata": {},
   "source": [
    "## Background \n",
    "\n",
    "W. Avy likes your analysis, but he wants more information about temperature trends before opening the surf shop. Specifically, he wants temperature data for the months of June and December in Oahu, in order to determine if the surf and ice cream shop business is sustainable year-round.\n",
    "\n",
    "## Methodology \n",
    "\n",
    "* Deliverable 1: Determine the Summary Statistics for June\n",
    "* Deliverable 2: Determine the Summary Statistics for December\n",
    "* Deliverable 3: A written report for the statistical analysis (README.md)\n",
    "\n"
   ]
  },
  {
   "cell_type": "code",
   "execution_count": 33,
   "metadata": {
    "collapsed": true,
    "jupyter": {
     "outputs_hidden": true
    },
    "tags": []
   },
   "outputs": [
    {
     "name": "stdout",
     "output_type": "stream",
     "text": [
      "Requirement already satisfied: dataframe-image in c:\\users\\jayce\\anaconda3\\envs\\pythondata\\lib\\site-packages (0.1.1)\n",
      "Requirement already satisfied: requests in c:\\users\\jayce\\anaconda3\\envs\\pythondata\\lib\\site-packages (from dataframe-image) (2.25.1)\n",
      "Requirement already satisfied: nbconvert>=5 in c:\\users\\jayce\\anaconda3\\envs\\pythondata\\lib\\site-packages (from dataframe-image) (6.0.7)\n",
      "Requirement already satisfied: aiohttp in c:\\users\\jayce\\anaconda3\\envs\\pythondata\\lib\\site-packages (from dataframe-image) (3.8.1)\n",
      "Requirement already satisfied: matplotlib>=3.1 in c:\\users\\jayce\\anaconda3\\envs\\pythondata\\lib\\site-packages (from dataframe-image) (3.3.4)\n",
      "Requirement already satisfied: beautifulsoup4 in c:\\users\\jayce\\anaconda3\\envs\\pythondata\\lib\\site-packages (from dataframe-image) (4.9.3)\n",
      "Requirement already satisfied: pandas>=0.24 in c:\\users\\jayce\\anaconda3\\envs\\pythondata\\lib\\site-packages (from dataframe-image) (1.2.4)\n",
      "Requirement already satisfied: pyparsing!=2.0.4,!=2.1.2,!=2.1.6,>=2.0.3 in c:\\users\\jayce\\anaconda3\\envs\\pythondata\\lib\\site-packages (from matplotlib>=3.1->dataframe-image) (2.4.7)\n",
      "Requirement already satisfied: kiwisolver>=1.0.1 in c:\\users\\jayce\\anaconda3\\envs\\pythondata\\lib\\site-packages (from matplotlib>=3.1->dataframe-image) (1.3.1)\n",
      "Requirement already satisfied: numpy>=1.15 in c:\\users\\jayce\\anaconda3\\envs\\pythondata\\lib\\site-packages (from matplotlib>=3.1->dataframe-image) (1.20.1)\n",
      "Requirement already satisfied: pillow>=6.2.0 in c:\\users\\jayce\\anaconda3\\envs\\pythondata\\lib\\site-packages (from matplotlib>=3.1->dataframe-image) (8.2.0)\n",
      "Requirement already satisfied: python-dateutil>=2.1 in c:\\users\\jayce\\anaconda3\\envs\\pythondata\\lib\\site-packages (from matplotlib>=3.1->dataframe-image) (2.8.1)\n",
      "Requirement already satisfied: cycler>=0.10 in c:\\users\\jayce\\anaconda3\\envs\\pythondata\\lib\\site-packages (from matplotlib>=3.1->dataframe-image) (0.10.0)\n",
      "Requirement already satisfied: six in c:\\users\\jayce\\anaconda3\\envs\\pythondata\\lib\\site-packages (from cycler>=0.10->matplotlib>=3.1->dataframe-image) (1.15.0)\n",
      "Requirement already satisfied: jupyterlab-pygments in c:\\users\\jayce\\anaconda3\\envs\\pythondata\\lib\\site-packages (from nbconvert>=5->dataframe-image) (0.1.2)\n",
      "Requirement already satisfied: jupyter-core in c:\\users\\jayce\\anaconda3\\envs\\pythondata\\lib\\site-packages (from nbconvert>=5->dataframe-image) (4.7.1)\n",
      "Requirement already satisfied: nbformat>=4.4 in c:\\users\\jayce\\anaconda3\\envs\\pythondata\\lib\\site-packages (from nbconvert>=5->dataframe-image) (5.1.3)\n",
      "Requirement already satisfied: jinja2>=2.4 in c:\\users\\jayce\\anaconda3\\envs\\pythondata\\lib\\site-packages (from nbconvert>=5->dataframe-image) (2.11.3)\n",
      "Requirement already satisfied: mistune<2,>=0.8.1 in c:\\users\\jayce\\anaconda3\\envs\\pythondata\\lib\\site-packages (from nbconvert>=5->dataframe-image) (0.8.4)\n",
      "Requirement already satisfied: nbclient<0.6.0,>=0.5.0 in c:\\users\\jayce\\anaconda3\\envs\\pythondata\\lib\\site-packages (from nbconvert>=5->dataframe-image) (0.5.3)\n",
      "Requirement already satisfied: pygments>=2.4.1 in c:\\users\\jayce\\anaconda3\\envs\\pythondata\\lib\\site-packages (from nbconvert>=5->dataframe-image) (2.8.1)\n",
      "Requirement already satisfied: bleach in c:\\users\\jayce\\anaconda3\\envs\\pythondata\\lib\\site-packages (from nbconvert>=5->dataframe-image) (3.3.0)\n",
      "Requirement already satisfied: defusedxml in c:\\users\\jayce\\anaconda3\\envs\\pythondata\\lib\\site-packages (from nbconvert>=5->dataframe-image) (0.7.1)\n",
      "Requirement already satisfied: traitlets>=4.2 in c:\\users\\jayce\\anaconda3\\envs\\pythondata\\lib\\site-packages (from nbconvert>=5->dataframe-image) (5.0.5)\n",
      "Requirement already satisfied: testpath in c:\\users\\jayce\\anaconda3\\envs\\pythondata\\lib\\site-packages (from nbconvert>=5->dataframe-image) (0.4.4)\n",
      "Requirement already satisfied: entrypoints>=0.2.2 in c:\\users\\jayce\\anaconda3\\envs\\pythondata\\lib\\site-packages (from nbconvert>=5->dataframe-image) (0.3)\n",
      "Requirement already satisfied: pandocfilters>=1.4.1 in c:\\users\\jayce\\anaconda3\\envs\\pythondata\\lib\\site-packages (from nbconvert>=5->dataframe-image) (1.4.3)\n",
      "Requirement already satisfied: MarkupSafe>=0.23 in c:\\users\\jayce\\anaconda3\\envs\\pythondata\\lib\\site-packages (from jinja2>=2.4->nbconvert>=5->dataframe-image) (1.1.1)\n",
      "Requirement already satisfied: async-generator in c:\\users\\jayce\\anaconda3\\envs\\pythondata\\lib\\site-packages (from nbclient<0.6.0,>=0.5.0->nbconvert>=5->dataframe-image) (1.10)\n",
      "Note: you may need to restart the kernel to use updated packages.\n",
      "Requirement already satisfied: nest-asyncio in c:\\users\\jayce\\anaconda3\\envs\\pythondata\\lib\\site-packages (from nbclient<0.6.0,>=0.5.0->nbconvert>=5->dataframe-image) (1.5.1)\n",
      "Requirement already satisfied: jupyter-client>=6.1.5 in c:\\users\\jayce\\anaconda3\\envs\\pythondata\\lib\\site-packages (from nbclient<0.6.0,>=0.5.0->nbconvert>=5->dataframe-image) (6.1.12)\n",
      "Requirement already satisfied: pyzmq>=13 in c:\\users\\jayce\\anaconda3\\envs\\pythondata\\lib\\site-packages (from jupyter-client>=6.1.5->nbclient<0.6.0,>=0.5.0->nbconvert>=5->dataframe-image) (20.0.0)\n",
      "Requirement already satisfied: tornado>=4.1 in c:\\users\\jayce\\anaconda3\\envs\\pythondata\\lib\\site-packages (from jupyter-client>=6.1.5->nbclient<0.6.0,>=0.5.0->nbconvert>=5->dataframe-image) (6.1)\n",
      "Requirement already satisfied: pywin32>=1.0 in c:\\users\\jayce\\anaconda3\\envs\\pythondata\\lib\\site-packages (from jupyter-core->nbconvert>=5->dataframe-image) (227)\n",
      "Requirement already satisfied: ipython-genutils in c:\\users\\jayce\\anaconda3\\envs\\pythondata\\lib\\site-packages (from nbformat>=4.4->nbconvert>=5->dataframe-image) (0.2.0)\n",
      "Requirement already satisfied: jsonschema!=2.5.0,>=2.4 in c:\\users\\jayce\\anaconda3\\envs\\pythondata\\lib\\site-packages (from nbformat>=4.4->nbconvert>=5->dataframe-image) (3.2.0)\n",
      "Requirement already satisfied: pyrsistent>=0.14.0 in c:\\users\\jayce\\anaconda3\\envs\\pythondata\\lib\\site-packages (from jsonschema!=2.5.0,>=2.4->nbformat>=4.4->nbconvert>=5->dataframe-image) (0.17.3)\n",
      "Requirement already satisfied: importlib-metadata in c:\\users\\jayce\\anaconda3\\envs\\pythondata\\lib\\site-packages (from jsonschema!=2.5.0,>=2.4->nbformat>=4.4->nbconvert>=5->dataframe-image) (3.10.0)\n",
      "Requirement already satisfied: setuptools in c:\\users\\jayce\\anaconda3\\envs\\pythondata\\lib\\site-packages (from jsonschema!=2.5.0,>=2.4->nbformat>=4.4->nbconvert>=5->dataframe-image) (52.0.0.post20210125)\n",
      "Requirement already satisfied: attrs>=17.4.0 in c:\\users\\jayce\\anaconda3\\envs\\pythondata\\lib\\site-packages (from jsonschema!=2.5.0,>=2.4->nbformat>=4.4->nbconvert>=5->dataframe-image) (20.3.0)\n",
      "Requirement already satisfied: pytz>=2017.3 in c:\\users\\jayce\\anaconda3\\envs\\pythondata\\lib\\site-packages (from pandas>=0.24->dataframe-image) (2021.1)\n",
      "Requirement already satisfied: typing-extensions>=3.7.4 in c:\\users\\jayce\\anaconda3\\envs\\pythondata\\lib\\site-packages (from aiohttp->dataframe-image) (3.7.4.3)\n",
      "Requirement already satisfied: multidict<7.0,>=4.5 in c:\\users\\jayce\\anaconda3\\envs\\pythondata\\lib\\site-packages (from aiohttp->dataframe-image) (5.2.0)\n",
      "Requirement already satisfied: asynctest==0.13.0 in c:\\users\\jayce\\anaconda3\\envs\\pythondata\\lib\\site-packages (from aiohttp->dataframe-image) (0.13.0)\n",
      "Requirement already satisfied: async-timeout<5.0,>=4.0.0a3 in c:\\users\\jayce\\anaconda3\\envs\\pythondata\\lib\\site-packages (from aiohttp->dataframe-image) (4.0.2)\n",
      "Requirement already satisfied: aiosignal>=1.1.2 in c:\\users\\jayce\\anaconda3\\envs\\pythondata\\lib\\site-packages (from aiohttp->dataframe-image) (1.2.0)\n",
      "Requirement already satisfied: yarl<2.0,>=1.0 in c:\\users\\jayce\\anaconda3\\envs\\pythondata\\lib\\site-packages (from aiohttp->dataframe-image) (1.7.2)\n",
      "Requirement already satisfied: charset-normalizer<3.0,>=2.0 in c:\\users\\jayce\\anaconda3\\envs\\pythondata\\lib\\site-packages (from aiohttp->dataframe-image) (2.0.9)\n",
      "Requirement already satisfied: frozenlist>=1.1.1 in c:\\users\\jayce\\anaconda3\\envs\\pythondata\\lib\\site-packages (from aiohttp->dataframe-image) (1.2.0)\n",
      "Requirement already satisfied: idna>=2.0 in c:\\users\\jayce\\anaconda3\\envs\\pythondata\\lib\\site-packages (from yarl<2.0,>=1.0->aiohttp->dataframe-image) (2.10)\n",
      "Requirement already satisfied: soupsieve>1.2 in c:\\users\\jayce\\anaconda3\\envs\\pythondata\\lib\\site-packages (from beautifulsoup4->dataframe-image) (2.2.1)\n",
      "Requirement already satisfied: webencodings in c:\\users\\jayce\\anaconda3\\envs\\pythondata\\lib\\site-packages (from bleach->nbconvert>=5->dataframe-image) (0.5.1)\n",
      "Requirement already satisfied: packaging in c:\\users\\jayce\\anaconda3\\envs\\pythondata\\lib\\site-packages (from bleach->nbconvert>=5->dataframe-image) (20.9)\n",
      "Requirement already satisfied: zipp>=0.5 in c:\\users\\jayce\\anaconda3\\envs\\pythondata\\lib\\site-packages (from importlib-metadata->jsonschema!=2.5.0,>=2.4->nbformat>=4.4->nbconvert>=5->dataframe-image) (3.4.1)\n",
      "Requirement already satisfied: chardet<5,>=3.0.2 in c:\\users\\jayce\\anaconda3\\envs\\pythondata\\lib\\site-packages (from requests->dataframe-image) (4.0.0)\n",
      "Requirement already satisfied: certifi>=2017.4.17 in c:\\users\\jayce\\anaconda3\\envs\\pythondata\\lib\\site-packages (from requests->dataframe-image) (2020.12.5)\n",
      "Requirement already satisfied: urllib3<1.27,>=1.21.1 in c:\\users\\jayce\\anaconda3\\envs\\pythondata\\lib\\site-packages (from requests->dataframe-image) (1.26.4)\n"
     ]
    }
   ],
   "source": [
    "pip install dataframe-image"
   ]
  },
  {
   "cell_type": "code",
   "execution_count": 59,
   "metadata": {},
   "outputs": [],
   "source": [
    "# Dependencies\n",
    "import numpy as np\n",
    "import pandas as pd\n",
    "from matplotlib import pyplot as plt\n",
    "\n",
    "# Python SQL toolkit and Object Relational Mapper\n",
    "import sqlalchemy\n",
    "from sqlalchemy.ext.automap import automap_base\n",
    "from sqlalchemy.orm import Session\n",
    "from sqlalchemy import create_engine, func\n",
    "from sqlalchemy import extract\n",
    "\n",
    "# import dataframe_image\n",
    "import dataframe_image as dfi"
   ]
  },
  {
   "cell_type": "code",
   "execution_count": 35,
   "metadata": {},
   "outputs": [
    {
     "data": {
      "text/plain": [
       "['measurement', 'station']"
      ]
     },
     "execution_count": 35,
     "metadata": {},
     "output_type": "execute_result"
    }
   ],
   "source": [
    "engine = create_engine(\"sqlite:///./Resources/hawaii.sqlite\")\n",
    "\n",
    "# reflect an existing database into a new model\n",
    "Base = automap_base()\n",
    "# reflect the tables\n",
    "Base.prepare(engine, reflect=True)\n",
    "\n",
    "# what are the atables in the hawaii.sqlite db\n",
    "Base.classes.keys()"
   ]
  },
  {
   "cell_type": "code",
   "execution_count": 36,
   "metadata": {},
   "outputs": [],
   "source": [
    "# Save references to each table\n",
    "Measurement = Base.classes.measurement\n",
    "Station = Base.classes.station"
   ]
  },
  {
   "cell_type": "code",
   "execution_count": 37,
   "metadata": {},
   "outputs": [],
   "source": [
    "# Create our session (link) from Python to the DB\n",
    "session = Session(engine)"
   ]
  },
  {
   "cell_type": "markdown",
   "metadata": {},
   "source": [
    "## D1: Determine the Summary Statistics for June"
   ]
  },
  {
   "cell_type": "code",
   "execution_count": 38,
   "metadata": {},
   "outputs": [],
   "source": [
    "# 1. Import the sqlalchemy extract function.\n",
    "# from sqlalchemy import extract\n",
    "\n",
    "# 2. Write a query that filters the Measurement table to retrieve the temperatures for the month of June. \n",
    "june_temps = session.query(Measurement).filter(extract('month', Measurement.date) == 6).all()\n",
    "#june_temps"
   ]
  },
  {
   "cell_type": "code",
   "execution_count": 39,
   "metadata": {},
   "outputs": [
    {
     "data": {
      "text/plain": [
       "[78.0, 76.0, 78.0, 76.0, 77.0]"
      ]
     },
     "execution_count": 39,
     "metadata": {},
     "output_type": "execute_result"
    }
   ],
   "source": [
    "#  3. Convert the June temperatures to a list.\n",
    "june_temps_list = [temp.tobs for temp in june_temps]\n",
    "june_temps_list[:5]"
   ]
  },
  {
   "cell_type": "code",
   "execution_count": 40,
   "metadata": {},
   "outputs": [
    {
     "data": {
      "text/html": [
       "<div>\n",
       "<style scoped>\n",
       "    .dataframe tbody tr th:only-of-type {\n",
       "        vertical-align: middle;\n",
       "    }\n",
       "\n",
       "    .dataframe tbody tr th {\n",
       "        vertical-align: top;\n",
       "    }\n",
       "\n",
       "    .dataframe thead th {\n",
       "        text-align: right;\n",
       "    }\n",
       "</style>\n",
       "<table border=\"1\" class=\"dataframe\">\n",
       "  <thead>\n",
       "    <tr style=\"text-align: right;\">\n",
       "      <th></th>\n",
       "      <th>June Temps</th>\n",
       "    </tr>\n",
       "  </thead>\n",
       "  <tbody>\n",
       "    <tr>\n",
       "      <th>0</th>\n",
       "      <td>78.0</td>\n",
       "    </tr>\n",
       "    <tr>\n",
       "      <th>1</th>\n",
       "      <td>76.0</td>\n",
       "    </tr>\n",
       "    <tr>\n",
       "      <th>2</th>\n",
       "      <td>78.0</td>\n",
       "    </tr>\n",
       "    <tr>\n",
       "      <th>3</th>\n",
       "      <td>76.0</td>\n",
       "    </tr>\n",
       "    <tr>\n",
       "      <th>4</th>\n",
       "      <td>77.0</td>\n",
       "    </tr>\n",
       "    <tr>\n",
       "      <th>...</th>\n",
       "      <td>...</td>\n",
       "    </tr>\n",
       "    <tr>\n",
       "      <th>1695</th>\n",
       "      <td>79.0</td>\n",
       "    </tr>\n",
       "    <tr>\n",
       "      <th>1696</th>\n",
       "      <td>74.0</td>\n",
       "    </tr>\n",
       "    <tr>\n",
       "      <th>1697</th>\n",
       "      <td>74.0</td>\n",
       "    </tr>\n",
       "    <tr>\n",
       "      <th>1698</th>\n",
       "      <td>76.0</td>\n",
       "    </tr>\n",
       "    <tr>\n",
       "      <th>1699</th>\n",
       "      <td>75.0</td>\n",
       "    </tr>\n",
       "  </tbody>\n",
       "</table>\n",
       "<p>1700 rows × 1 columns</p>\n",
       "</div>"
      ],
      "text/plain": [
       "      June Temps\n",
       "0           78.0\n",
       "1           76.0\n",
       "2           78.0\n",
       "3           76.0\n",
       "4           77.0\n",
       "...          ...\n",
       "1695        79.0\n",
       "1696        74.0\n",
       "1697        74.0\n",
       "1698        76.0\n",
       "1699        75.0\n",
       "\n",
       "[1700 rows x 1 columns]"
      ]
     },
     "execution_count": 40,
     "metadata": {},
     "output_type": "execute_result"
    }
   ],
   "source": [
    "# 4. Create a DataFrame from the list of temperatures for the month of June. \n",
    "june_temp_df = pd.DataFrame(june_temps_list, columns=['June Temps'])\n",
    "june_temp_df"
   ]
  },
  {
   "cell_type": "code",
   "execution_count": 57,
   "metadata": {},
   "outputs": [
    {
     "name": "stdout",
     "output_type": "stream",
     "text": [
      "<class 'pandas.core.frame.DataFrame'>\n",
      "RangeIndex: 1700 entries, 0 to 1699\n",
      "Data columns (total 1 columns):\n",
      " #   Column      Non-Null Count  Dtype  \n",
      "---  ------      --------------  -----  \n",
      " 0   June Temps  1700 non-null   float64\n",
      "dtypes: float64(1)\n",
      "memory usage: 13.4 KB\n"
     ]
    }
   ],
   "source": [
    "june_temp_df.info()"
   ]
  },
  {
   "cell_type": "code",
   "execution_count": 64,
   "metadata": {},
   "outputs": [
    {
     "data": {
      "image/png": "[encoded data removed]",
      "text/plain": [
       "<Figure size 432x288 with 1 Axes>"
      ]
     },
     "metadata": {
      "needs_background": "light"
     },
     "output_type": "display_data"
    }
   ],
   "source": [
    "# plot a hitogram\n",
    "june_temp_df.hist()\n",
    "\n",
    "# save as an image\n",
    "\n",
    "plt.savefig(\"Images/June_temps_hist.png\")\n",
    "plt.tight_layout()\n",
    "plt.show()"
   ]
  },
  {
   "cell_type": "code",
   "execution_count": 42,
   "metadata": {},
   "outputs": [
    {
     "data": {
      "text/html": [
       "<div>\n",
       "<style scoped>\n",
       "    .dataframe tbody tr th:only-of-type {\n",
       "        vertical-align: middle;\n",
       "    }\n",
       "\n",
       "    .dataframe tbody tr th {\n",
       "        vertical-align: top;\n",
       "    }\n",
       "\n",
       "    .dataframe thead th {\n",
       "        text-align: right;\n",
       "    }\n",
       "</style>\n",
       "<table border=\"1\" class=\"dataframe\">\n",
       "  <thead>\n",
       "    <tr style=\"text-align: right;\">\n",
       "      <th></th>\n",
       "      <th>June Temps</th>\n",
       "    </tr>\n",
       "  </thead>\n",
       "  <tbody>\n",
       "    <tr>\n",
       "      <th>count</th>\n",
       "      <td>1700.000000</td>\n",
       "    </tr>\n",
       "    <tr>\n",
       "      <th>mean</th>\n",
       "      <td>74.944118</td>\n",
       "    </tr>\n",
       "    <tr>\n",
       "      <th>std</th>\n",
       "      <td>3.257417</td>\n",
       "    </tr>\n",
       "    <tr>\n",
       "      <th>min</th>\n",
       "      <td>64.000000</td>\n",
       "    </tr>\n",
       "    <tr>\n",
       "      <th>25%</th>\n",
       "      <td>73.000000</td>\n",
       "    </tr>\n",
       "    <tr>\n",
       "      <th>50%</th>\n",
       "      <td>75.000000</td>\n",
       "    </tr>\n",
       "    <tr>\n",
       "      <th>75%</th>\n",
       "      <td>77.000000</td>\n",
       "    </tr>\n",
       "    <tr>\n",
       "      <th>max</th>\n",
       "      <td>85.000000</td>\n",
       "    </tr>\n",
       "  </tbody>\n",
       "</table>\n",
       "</div>"
      ],
      "text/plain": [
       "        June Temps\n",
       "count  1700.000000\n",
       "mean     74.944118\n",
       "std       3.257417\n",
       "min      64.000000\n",
       "25%      73.000000\n",
       "50%      75.000000\n",
       "75%      77.000000\n",
       "max      85.000000"
      ]
     },
     "execution_count": 42,
     "metadata": {},
     "output_type": "execute_result"
    }
   ],
   "source": [
    "# 5. Calculate and print out the summary statistics for the June temperature DataFrame.\n",
    "june_temp_summary_stats = june_temp_df.describe()\n",
    "\n",
    "\n",
    "\n",
    "#export as an image\n",
    "dfi.export(june_temp_summary_stats, \"Images/june_temp_summary_stats.png\")\n",
    "\n",
    "\n",
    "\n",
    "june_temp_summary_stats"
   ]
  },
  {
   "cell_type": "markdown",
   "metadata": {},
   "source": [
    "## D2: Determine the Summary Statistics for December"
   ]
  },
  {
   "cell_type": "code",
   "execution_count": 53,
   "metadata": {},
   "outputs": [],
   "source": [
    "# 6. Write a query that filters the Measurement table to retrieve the temperatures for the month of December.\n",
    "dec_temps = session.query(Measurement).filter(extract('month', Measurement.date) == 12).all()\n",
    "# dec_temps"
   ]
  },
  {
   "cell_type": "code",
   "execution_count": 54,
   "metadata": {},
   "outputs": [],
   "source": [
    "# 7. Convert the December temperatures to a list.\n",
    "dec_temps_list = [temp.tobs for temp in dec_temps]\n",
    "# dec_temps_list[:5]"
   ]
  },
  {
   "cell_type": "code",
   "execution_count": 55,
   "metadata": {},
   "outputs": [
    {
     "data": {
      "text/html": [
       "<div>\n",
       "<style scoped>\n",
       "    .dataframe tbody tr th:only-of-type {\n",
       "        vertical-align: middle;\n",
       "    }\n",
       "\n",
       "    .dataframe tbody tr th {\n",
       "        vertical-align: top;\n",
       "    }\n",
       "\n",
       "    .dataframe thead th {\n",
       "        text-align: right;\n",
       "    }\n",
       "</style>\n",
       "<table border=\"1\" class=\"dataframe\">\n",
       "  <thead>\n",
       "    <tr style=\"text-align: right;\">\n",
       "      <th></th>\n",
       "      <th>December Temps</th>\n",
       "    </tr>\n",
       "  </thead>\n",
       "  <tbody>\n",
       "    <tr>\n",
       "      <th>0</th>\n",
       "      <td>76.0</td>\n",
       "    </tr>\n",
       "    <tr>\n",
       "      <th>1</th>\n",
       "      <td>74.0</td>\n",
       "    </tr>\n",
       "    <tr>\n",
       "      <th>2</th>\n",
       "      <td>74.0</td>\n",
       "    </tr>\n",
       "    <tr>\n",
       "      <th>3</th>\n",
       "      <td>64.0</td>\n",
       "    </tr>\n",
       "    <tr>\n",
       "      <th>4</th>\n",
       "      <td>64.0</td>\n",
       "    </tr>\n",
       "    <tr>\n",
       "      <th>...</th>\n",
       "      <td>...</td>\n",
       "    </tr>\n",
       "    <tr>\n",
       "      <th>1512</th>\n",
       "      <td>71.0</td>\n",
       "    </tr>\n",
       "    <tr>\n",
       "      <th>1513</th>\n",
       "      <td>71.0</td>\n",
       "    </tr>\n",
       "    <tr>\n",
       "      <th>1514</th>\n",
       "      <td>69.0</td>\n",
       "    </tr>\n",
       "    <tr>\n",
       "      <th>1515</th>\n",
       "      <td>65.0</td>\n",
       "    </tr>\n",
       "    <tr>\n",
       "      <th>1516</th>\n",
       "      <td>65.0</td>\n",
       "    </tr>\n",
       "  </tbody>\n",
       "</table>\n",
       "<p>1517 rows × 1 columns</p>\n",
       "</div>"
      ],
      "text/plain": [
       "      December Temps\n",
       "0               76.0\n",
       "1               74.0\n",
       "2               74.0\n",
       "3               64.0\n",
       "4               64.0\n",
       "...              ...\n",
       "1512            71.0\n",
       "1513            71.0\n",
       "1514            69.0\n",
       "1515            65.0\n",
       "1516            65.0\n",
       "\n",
       "[1517 rows x 1 columns]"
      ]
     },
     "execution_count": 55,
     "metadata": {},
     "output_type": "execute_result"
    }
   ],
   "source": [
    "# 8. Create a DataFrame from the list of temperatures for the month of December. \n",
    "dec_temp_df = pd.DataFrame(dec_temps_list, columns=['December Temps'])\n",
    "dec_temp_df"
   ]
  },
  {
   "cell_type": "code",
   "execution_count": null,
   "metadata": {},
   "outputs": [],
   "source": []
  },
  {
   "cell_type": "code",
   "execution_count": 56,
   "metadata": {},
   "outputs": [
    {
     "data": {
      "text/html": [
       "<div>\n",
       "<style scoped>\n",
       "    .dataframe tbody tr th:only-of-type {\n",
       "        vertical-align: middle;\n",
       "    }\n",
       "\n",
       "    .dataframe tbody tr th {\n",
       "        vertical-align: top;\n",
       "    }\n",
       "\n",
       "    .dataframe thead th {\n",
       "        text-align: right;\n",
       "    }\n",
       "</style>\n",
       "<table border=\"1\" class=\"dataframe\">\n",
       "  <thead>\n",
       "    <tr style=\"text-align: right;\">\n",
       "      <th></th>\n",
       "      <th>December Temps</th>\n",
       "    </tr>\n",
       "  </thead>\n",
       "  <tbody>\n",
       "    <tr>\n",
       "      <th>count</th>\n",
       "      <td>1517.000000</td>\n",
       "    </tr>\n",
       "    <tr>\n",
       "      <th>mean</th>\n",
       "      <td>71.041529</td>\n",
       "    </tr>\n",
       "    <tr>\n",
       "      <th>std</th>\n",
       "      <td>3.745920</td>\n",
       "    </tr>\n",
       "    <tr>\n",
       "      <th>min</th>\n",
       "      <td>56.000000</td>\n",
       "    </tr>\n",
       "    <tr>\n",
       "      <th>25%</th>\n",
       "      <td>69.000000</td>\n",
       "    </tr>\n",
       "    <tr>\n",
       "      <th>50%</th>\n",
       "      <td>71.000000</td>\n",
       "    </tr>\n",
       "    <tr>\n",
       "      <th>75%</th>\n",
       "      <td>74.000000</td>\n",
       "    </tr>\n",
       "    <tr>\n",
       "      <th>max</th>\n",
       "      <td>83.000000</td>\n",
       "    </tr>\n",
       "  </tbody>\n",
       "</table>\n",
       "</div>"
      ],
      "text/plain": [
       "       December Temps\n",
       "count     1517.000000\n",
       "mean        71.041529\n",
       "std          3.745920\n",
       "min         56.000000\n",
       "25%         69.000000\n",
       "50%         71.000000\n",
       "75%         74.000000\n",
       "max         83.000000"
      ]
     },
     "execution_count": 56,
     "metadata": {},
     "output_type": "execute_result"
    }
   ],
   "source": [
    "# 9. Calculate and print out the summary statistics for the Decemeber temperature DataFrame.\n",
    "dec_temp_summary_stats = dec_temp_df.describe()\n",
    "\n",
    "\n",
    "\n",
    "#export as an image\n",
    "dfi.export(dec_temp_summary_stats, \"Images/dec_temp_summary_stats.png\")\n",
    "\n",
    "\n",
    "\n",
    "\n",
    "\n",
    "dec_temp_summary_stats"
   ]
  },
  {
   "cell_type": "code",
   "execution_count": null,
   "metadata": {},
   "outputs": [],
   "source": []
  }
 ],
 "metadata": {
  "kernelspec": {
   "display_name": "PythonData",
   "language": "python",
   "name": "pythondata"
  },
  "language_info": {
   "codemirror_mode": {
    "name": "ipython",
    "version": 3
   },
   "file_extension": ".py",
   "mimetype": "text/x-python",
   "name": "python",
   "nbconvert_exporter": "python",
   "pygments_lexer": "ipython3",
   "version": "3.7.10"
  }
 },
 "nbformat": 4,
 "nbformat_minor": 4
}
